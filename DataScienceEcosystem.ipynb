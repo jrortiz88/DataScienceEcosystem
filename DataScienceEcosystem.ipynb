{
 "cells": [
  {
   "cell_type": "markdown",
   "id": "dbe65f72-0f2a-4dab-90b8-15f862a71cbc",
   "metadata": {},
   "source": [
    "# Data Science Tools and Ecosystem"
   ]
  },
  {
   "cell_type": "markdown",
   "id": "59d72693-9bd6-410c-8fdb-9e9878da1100",
   "metadata": {},
   "source": [
    "In this notebook, Data Science Tools and Ecosystem are summarized."
   ]
  },
  {
   "cell_type": "markdown",
   "id": "ba45e5c8-c9d1-4266-8cde-db6de2e89028",
   "metadata": {},
   "source": [
    "**Objectives:**"
   ]
  },
  {
   "cell_type": "markdown",
   "id": "b32ff0d4-ee8c-4979-8d07-bd95446b85f0",
   "metadata": {},
   "source": [
    "* List popular languages for Data Science\n",
    "* List commonly used libraries by Data Scientist\n",
    "* Name three three development environment open source tools used in Data Science\n",
    "* Perform a simple arithmetic expression multiplying integers\n",
    "* Convert minutes to hours by dividing two integers\n"
   ]
  },
  {
   "cell_type": "markdown",
   "id": "adba47d6-5717-42d4-a15e-1e6d3a950a83",
   "metadata": {},
   "source": [
    "Some of the popular languages that Data Scientists use are:\n",
    "1. Pyhton\n",
    "2. R\n",
    "3. Julia\n",
    "4. SQL"
   ]
  },
  {
   "cell_type": "markdown",
   "id": "83869471-1182-4b85-b5bd-3ca921e81c62",
   "metadata": {},
   "source": [
    "Some of the commonly used libraries used by Data Scientists include:\n",
    "1. Pandas\n",
    "2. NumPy\n",
    "3. TensorFlow\n",
    "4. Matplotlib\n"
   ]
  },
  {
   "cell_type": "markdown",
   "id": "1a4606d6-939b-4091-895b-89d0121a0121",
   "metadata": {},
   "source": [
    "|Data Science Tools|\n",
    "|----|\n",
    "|JupyterNotebooks|\n",
    "|RStudio|\n",
    "|VSCode|\n"
   ]
  },
  {
   "cell_type": "markdown",
   "id": "360d09da-27e6-48ed-a0f1-ff2e6d5529c0",
   "metadata": {},
   "source": [
    "### Below are a few examples of evaluating arithmetic expressions in Python"
   ]
  },
  {
   "cell_type": "code",
   "execution_count": null,
   "id": "86af6d1a-9327-4dc5-b0aa-c138ba09f3d4",
   "metadata": {},
   "outputs": [],
   "source": [
    "# This a simple arithmetic expression to mutiply then add integers"
   ]
  },
  {
   "cell_type": "code",
   "execution_count": 3,
   "id": "5cc6f37e-0f8f-4e9e-b2c6-09acd2281cf6",
   "metadata": {
    "tags": []
   },
   "outputs": [
    {
     "data": {
      "text/plain": [
       "17"
      ]
     },
     "execution_count": 3,
     "metadata": {},
     "output_type": "execute_result"
    }
   ],
   "source": [
    "(3*4)+5"
   ]
  },
  {
   "cell_type": "code",
   "execution_count": null,
   "id": "c8f2e518-d080-4b4d-9e38-2a7a3240c90d",
   "metadata": {},
   "outputs": [],
   "source": [
    "# This will convert 200 minutes to hours by diving by 60"
   ]
  },
  {
   "cell_type": "code",
   "execution_count": 4,
   "id": "876a8b27-2b2c-4d8c-8cd3-213b04ae811d",
   "metadata": {
    "tags": []
   },
   "outputs": [
    {
     "data": {
      "text/plain": [
       "3.3333333333333335"
      ]
     },
     "execution_count": 4,
     "metadata": {},
     "output_type": "execute_result"
    }
   ],
   "source": [
    "200/60"
   ]
  },
  {
   "cell_type": "markdown",
   "id": "a31cffd8-a46a-4943-93a3-b70b84e89f89",
   "metadata": {},
   "source": [
    "## Author"
   ]
  },
  {
   "cell_type": "markdown",
   "id": "794d087b-00c8-4586-8d9f-7d14bd2246fa",
   "metadata": {},
   "source": [
    "Juan Ortiz"
   ]
  },
  {
   "cell_type": "code",
   "execution_count": null,
   "id": "cfbdb105-6e03-4ecb-9792-5b281a53245f",
   "metadata": {},
   "outputs": [],
   "source": []
  }
 ],
 "metadata": {
  "kernelspec": {
   "display_name": "Python",
   "language": "python",
   "name": "conda-env-python-py"
  },
  "language_info": {
   "codemirror_mode": {
    "name": "ipython",
    "version": 3
   },
   "file_extension": ".py",
   "mimetype": "text/x-python",
   "name": "python",
   "nbconvert_exporter": "python",
   "pygments_lexer": "ipython3",
   "version": "3.7.12"
  }
 },
 "nbformat": 4,
 "nbformat_minor": 5
}
